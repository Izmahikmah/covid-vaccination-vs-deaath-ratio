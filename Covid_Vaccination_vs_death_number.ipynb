{
  "nbformat": 4,
  "nbformat_minor": 0,
  "metadata": {
    "colab": {
      "name": "Covid_Vaccination_vs_death_number.ipynb",
      "provenance": [],
      "collapsed_sections": [],
      "mount_file_id": "1VKagb9EkHGNFLbfyN_zWoh0YT4naPt5i",
      "authorship_tag": "ABX9TyMRfH0fn9/h5NXAAUBUytyC",
      "include_colab_link": true
    },
    "kernelspec": {
      "name": "python3",
      "display_name": "Python 3"
    },
    "language_info": {
      "name": "python"
    }
  },
  "cells": [
    {
      "cell_type": "markdown",
      "metadata": {
        "id": "view-in-github",
        "colab_type": "text"
      },
      "source": [
        "<a href=\"https://colab.research.google.com/github/Izmahikmah/covid-vaccination-vs-deaath-ratio/blob/main/Covid_Vaccination_vs_death_number.ipynb\" target=\"_parent\"><img src=\"https://colab.research.google.com/assets/colab-badge.svg\" alt=\"Open In Colab\"/></a>"
      ]
    },
    {
      "cell_type": "code",
      "metadata": {
        "id": "cMWpHHqpGiRZ"
      },
      "source": [
        "import matplotlib.pyplot as plt\n",
        "import numpy as np\n",
        "import pandas as pd"
      ],
      "execution_count": 1,
      "outputs": []
    },
    {
      "cell_type": "code",
      "metadata": {
        "colab": {
          "base_uri": "https://localhost:8080/"
        },
        "id": "_SjKLMT35Z34",
        "outputId": "4d6208e6-fbb2-4d4e-e981-c4029f849095"
      },
      "source": [
        "from google.colab import drive\n",
        "drive.mount('/content/drive')"
      ],
      "execution_count": 2,
      "outputs": [
        {
          "output_type": "stream",
          "name": "stdout",
          "text": [
            "Mounted at /content/drive\n"
          ]
        }
      ]
    },
    {
      "cell_type": "code",
      "metadata": {
        "colab": {
          "base_uri": "https://localhost:8080/",
          "height": 206
        },
        "id": "c2xN15tB5zoU",
        "outputId": "986dfab1-0122-41fb-db62-35826e5a12f5"
      },
      "source": [
        "path = '/content/drive/MyDrive/Data Analyst/data_vaksin.csv'\n",
        "data_vaksin = pd.read_csv (path)\n",
        "\n",
        "data_vaksin.head()"
      ],
      "execution_count": 3,
      "outputs": [
        {
          "output_type": "execute_result",
          "data": {
            "text/html": [
              "<div>\n",
              "<style scoped>\n",
              "    .dataframe tbody tr th:only-of-type {\n",
              "        vertical-align: middle;\n",
              "    }\n",
              "\n",
              "    .dataframe tbody tr th {\n",
              "        vertical-align: top;\n",
              "    }\n",
              "\n",
              "    .dataframe thead th {\n",
              "        text-align: right;\n",
              "    }\n",
              "</style>\n",
              "<table border=\"1\" class=\"dataframe\">\n",
              "  <thead>\n",
              "    <tr style=\"text-align: right;\">\n",
              "      <th></th>\n",
              "      <th>Unnamed: 0</th>\n",
              "      <th>country</th>\n",
              "      <th>iso_code</th>\n",
              "      <th>date</th>\n",
              "      <th>total_vaccinations</th>\n",
              "      <th>people_vaccinated</th>\n",
              "      <th>people_fully_vaccinated</th>\n",
              "      <th>New_deaths</th>\n",
              "      <th>population</th>\n",
              "      <th>ratio</th>\n",
              "    </tr>\n",
              "  </thead>\n",
              "  <tbody>\n",
              "    <tr>\n",
              "      <th>0</th>\n",
              "      <td>0</td>\n",
              "      <td>Afghanistan</td>\n",
              "      <td>AFG</td>\n",
              "      <td>2021-05-11</td>\n",
              "      <td>504502.0</td>\n",
              "      <td>448878.0</td>\n",
              "      <td>55624.0</td>\n",
              "      <td>12</td>\n",
              "      <td>40194523.0</td>\n",
              "      <td>1.116764</td>\n",
              "    </tr>\n",
              "    <tr>\n",
              "      <th>1</th>\n",
              "      <td>1</td>\n",
              "      <td>Afghanistan</td>\n",
              "      <td>AFG</td>\n",
              "      <td>2021-05-20</td>\n",
              "      <td>547901.0</td>\n",
              "      <td>470341.0</td>\n",
              "      <td>77560.0</td>\n",
              "      <td>10</td>\n",
              "      <td>40194523.0</td>\n",
              "      <td>1.170162</td>\n",
              "    </tr>\n",
              "    <tr>\n",
              "      <th>2</th>\n",
              "      <td>2</td>\n",
              "      <td>Afghanistan</td>\n",
              "      <td>AFG</td>\n",
              "      <td>2021-05-24</td>\n",
              "      <td>573277.0</td>\n",
              "      <td>476367.0</td>\n",
              "      <td>96910.0</td>\n",
              "      <td>10</td>\n",
              "      <td>40194523.0</td>\n",
              "      <td>1.185154</td>\n",
              "    </tr>\n",
              "    <tr>\n",
              "      <th>3</th>\n",
              "      <td>3</td>\n",
              "      <td>Afghanistan</td>\n",
              "      <td>AFG</td>\n",
              "      <td>2021-05-26</td>\n",
              "      <td>590454.0</td>\n",
              "      <td>479372.0</td>\n",
              "      <td>111082.0</td>\n",
              "      <td>19</td>\n",
              "      <td>40194523.0</td>\n",
              "      <td>1.192630</td>\n",
              "    </tr>\n",
              "    <tr>\n",
              "      <th>4</th>\n",
              "      <td>4</td>\n",
              "      <td>Afghanistan</td>\n",
              "      <td>AFG</td>\n",
              "      <td>2021-05-27</td>\n",
              "      <td>593313.0</td>\n",
              "      <td>479574.0</td>\n",
              "      <td>113739.0</td>\n",
              "      <td>14</td>\n",
              "      <td>40194523.0</td>\n",
              "      <td>1.193133</td>\n",
              "    </tr>\n",
              "  </tbody>\n",
              "</table>\n",
              "</div>"
            ],
            "text/plain": [
              "   Unnamed: 0      country iso_code  ... New_deaths  population     ratio\n",
              "0           0  Afghanistan      AFG  ...         12  40194523.0  1.116764\n",
              "1           1  Afghanistan      AFG  ...         10  40194523.0  1.170162\n",
              "2           2  Afghanistan      AFG  ...         10  40194523.0  1.185154\n",
              "3           3  Afghanistan      AFG  ...         19  40194523.0  1.192630\n",
              "4           4  Afghanistan      AFG  ...         14  40194523.0  1.193133\n",
              "\n",
              "[5 rows x 10 columns]"
            ]
          },
          "metadata": {},
          "execution_count": 3
        }
      ]
    },
    {
      "cell_type": "code",
      "metadata": {
        "colab": {
          "base_uri": "https://localhost:8080/",
          "height": 424
        },
        "id": "fCasru7KVYyi",
        "outputId": "2d3a70e8-bf99-45ed-b1f8-498cacee5700"
      },
      "source": [
        "dv=pd.concat([data_vaksin['date'],data_vaksin['total_vaccinations'],data_vaksin['New_deaths']],axis=1)\n",
        "dv.columns = ['Tanggal','total_vaksinasi','angka_kematian']\n",
        "dv"
      ],
      "execution_count": 4,
      "outputs": [
        {
          "output_type": "execute_result",
          "data": {
            "text/html": [
              "<div>\n",
              "<style scoped>\n",
              "    .dataframe tbody tr th:only-of-type {\n",
              "        vertical-align: middle;\n",
              "    }\n",
              "\n",
              "    .dataframe tbody tr th {\n",
              "        vertical-align: top;\n",
              "    }\n",
              "\n",
              "    .dataframe thead th {\n",
              "        text-align: right;\n",
              "    }\n",
              "</style>\n",
              "<table border=\"1\" class=\"dataframe\">\n",
              "  <thead>\n",
              "    <tr style=\"text-align: right;\">\n",
              "      <th></th>\n",
              "      <th>Tanggal</th>\n",
              "      <th>total_vaksinasi</th>\n",
              "      <th>angka_kematian</th>\n",
              "    </tr>\n",
              "  </thead>\n",
              "  <tbody>\n",
              "    <tr>\n",
              "      <th>0</th>\n",
              "      <td>2021-05-11</td>\n",
              "      <td>504502.0</td>\n",
              "      <td>12</td>\n",
              "    </tr>\n",
              "    <tr>\n",
              "      <th>1</th>\n",
              "      <td>2021-05-20</td>\n",
              "      <td>547901.0</td>\n",
              "      <td>10</td>\n",
              "    </tr>\n",
              "    <tr>\n",
              "      <th>2</th>\n",
              "      <td>2021-05-24</td>\n",
              "      <td>573277.0</td>\n",
              "      <td>10</td>\n",
              "    </tr>\n",
              "    <tr>\n",
              "      <th>3</th>\n",
              "      <td>2021-05-26</td>\n",
              "      <td>590454.0</td>\n",
              "      <td>19</td>\n",
              "    </tr>\n",
              "    <tr>\n",
              "      <th>4</th>\n",
              "      <td>2021-05-27</td>\n",
              "      <td>593313.0</td>\n",
              "      <td>14</td>\n",
              "    </tr>\n",
              "    <tr>\n",
              "      <th>...</th>\n",
              "      <td>...</td>\n",
              "      <td>...</td>\n",
              "      <td>...</td>\n",
              "    </tr>\n",
              "    <tr>\n",
              "      <th>24174</th>\n",
              "      <td>2021-11-15</td>\n",
              "      <td>6190303.0</td>\n",
              "      <td>1</td>\n",
              "    </tr>\n",
              "    <tr>\n",
              "      <th>24175</th>\n",
              "      <td>2021-11-16</td>\n",
              "      <td>6228119.0</td>\n",
              "      <td>0</td>\n",
              "    </tr>\n",
              "    <tr>\n",
              "      <th>24176</th>\n",
              "      <td>2021-11-18</td>\n",
              "      <td>6310431.0</td>\n",
              "      <td>1</td>\n",
              "    </tr>\n",
              "    <tr>\n",
              "      <th>24177</th>\n",
              "      <td>2021-11-19</td>\n",
              "      <td>6362499.0</td>\n",
              "      <td>0</td>\n",
              "    </tr>\n",
              "    <tr>\n",
              "      <th>24178</th>\n",
              "      <td>2021-11-20</td>\n",
              "      <td>6396012.0</td>\n",
              "      <td>0</td>\n",
              "    </tr>\n",
              "  </tbody>\n",
              "</table>\n",
              "<p>24179 rows × 3 columns</p>\n",
              "</div>"
            ],
            "text/plain": [
              "          Tanggal  total_vaksinasi  angka_kematian\n",
              "0      2021-05-11         504502.0              12\n",
              "1      2021-05-20         547901.0              10\n",
              "2      2021-05-24         573277.0              10\n",
              "3      2021-05-26         590454.0              19\n",
              "4      2021-05-27         593313.0              14\n",
              "...           ...              ...             ...\n",
              "24174  2021-11-15        6190303.0               1\n",
              "24175  2021-11-16        6228119.0               0\n",
              "24176  2021-11-18        6310431.0               1\n",
              "24177  2021-11-19        6362499.0               0\n",
              "24178  2021-11-20        6396012.0               0\n",
              "\n",
              "[24179 rows x 3 columns]"
            ]
          },
          "metadata": {},
          "execution_count": 4
        }
      ]
    },
    {
      "cell_type": "code",
      "metadata": {
        "colab": {
          "base_uri": "https://localhost:8080/",
          "height": 424
        },
        "id": "h01t8gVqY3Oe",
        "outputId": "3a0f0f1f-2ee2-425e-d8eb-82755df64b21"
      },
      "source": [
        "dv1=dv[data_vaksin['country']=='Indonesia']\n",
        "dv1"
      ],
      "execution_count": 5,
      "outputs": [
        {
          "output_type": "execute_result",
          "data": {
            "text/html": [
              "<div>\n",
              "<style scoped>\n",
              "    .dataframe tbody tr th:only-of-type {\n",
              "        vertical-align: middle;\n",
              "    }\n",
              "\n",
              "    .dataframe tbody tr th {\n",
              "        vertical-align: top;\n",
              "    }\n",
              "\n",
              "    .dataframe thead th {\n",
              "        text-align: right;\n",
              "    }\n",
              "</style>\n",
              "<table border=\"1\" class=\"dataframe\">\n",
              "  <thead>\n",
              "    <tr style=\"text-align: right;\">\n",
              "      <th></th>\n",
              "      <th>Tanggal</th>\n",
              "      <th>total_vaksinasi</th>\n",
              "      <th>angka_kematian</th>\n",
              "    </tr>\n",
              "  </thead>\n",
              "  <tbody>\n",
              "    <tr>\n",
              "      <th>9680</th>\n",
              "      <td>2021-01-28</td>\n",
              "      <td>373786.0</td>\n",
              "      <td>476</td>\n",
              "    </tr>\n",
              "    <tr>\n",
              "      <th>9681</th>\n",
              "      <td>2021-01-29</td>\n",
              "      <td>416299.0</td>\n",
              "      <td>187</td>\n",
              "    </tr>\n",
              "    <tr>\n",
              "      <th>9682</th>\n",
              "      <td>2021-01-30</td>\n",
              "      <td>502955.0</td>\n",
              "      <td>210</td>\n",
              "    </tr>\n",
              "    <tr>\n",
              "      <th>9683</th>\n",
              "      <td>2021-01-31</td>\n",
              "      <td>515681.0</td>\n",
              "      <td>270</td>\n",
              "    </tr>\n",
              "    <tr>\n",
              "      <th>9684</th>\n",
              "      <td>2021-02-01</td>\n",
              "      <td>574938.0</td>\n",
              "      <td>279</td>\n",
              "    </tr>\n",
              "    <tr>\n",
              "      <th>...</th>\n",
              "      <td>...</td>\n",
              "      <td>...</td>\n",
              "      <td>...</td>\n",
              "    </tr>\n",
              "    <tr>\n",
              "      <th>9937</th>\n",
              "      <td>2021-11-16</td>\n",
              "      <td>216663555.0</td>\n",
              "      <td>15</td>\n",
              "    </tr>\n",
              "    <tr>\n",
              "      <th>9938</th>\n",
              "      <td>2021-11-17</td>\n",
              "      <td>218286093.0</td>\n",
              "      <td>13</td>\n",
              "    </tr>\n",
              "    <tr>\n",
              "      <th>9939</th>\n",
              "      <td>2021-11-18</td>\n",
              "      <td>218409909.0</td>\n",
              "      <td>11</td>\n",
              "    </tr>\n",
              "    <tr>\n",
              "      <th>9940</th>\n",
              "      <td>2021-11-19</td>\n",
              "      <td>221362168.0</td>\n",
              "      <td>5</td>\n",
              "    </tr>\n",
              "    <tr>\n",
              "      <th>9941</th>\n",
              "      <td>2021-11-20</td>\n",
              "      <td>222785206.0</td>\n",
              "      <td>14</td>\n",
              "    </tr>\n",
              "  </tbody>\n",
              "</table>\n",
              "<p>262 rows × 3 columns</p>\n",
              "</div>"
            ],
            "text/plain": [
              "         Tanggal  total_vaksinasi  angka_kematian\n",
              "9680  2021-01-28         373786.0             476\n",
              "9681  2021-01-29         416299.0             187\n",
              "9682  2021-01-30         502955.0             210\n",
              "9683  2021-01-31         515681.0             270\n",
              "9684  2021-02-01         574938.0             279\n",
              "...          ...              ...             ...\n",
              "9937  2021-11-16      216663555.0              15\n",
              "9938  2021-11-17      218286093.0              13\n",
              "9939  2021-11-18      218409909.0              11\n",
              "9940  2021-11-19      221362168.0               5\n",
              "9941  2021-11-20      222785206.0              14\n",
              "\n",
              "[262 rows x 3 columns]"
            ]
          },
          "metadata": {},
          "execution_count": 5
        }
      ]
    },
    {
      "cell_type": "code",
      "metadata": {
        "colab": {
          "base_uri": "https://localhost:8080/"
        },
        "id": "WilG5vlTinSp",
        "outputId": "f6e0dc1c-9c7b-4f46-b19f-9a578f44b277"
      },
      "source": [
        "total_kematian = dv1['angka_kematian'].sum()\n",
        "total_kematian"
      ],
      "execution_count": 6,
      "outputs": [
        {
          "output_type": "execute_result",
          "data": {
            "text/plain": [
              "106920"
            ]
          },
          "metadata": {},
          "execution_count": 6
        }
      ]
    },
    {
      "cell_type": "code",
      "metadata": {
        "colab": {
          "base_uri": "https://localhost:8080/",
          "height": 424
        },
        "id": "CwBsU6TMccKM",
        "outputId": "fae5a8cf-390f-463b-afff-bbab2a2cbb94"
      },
      "source": [
        "A=[]\n",
        "for i in range (1,263):\n",
        "  A.append(i)\n",
        "  i+=1\n",
        "\n",
        "final_dv1=dv1.sort_values(by='total_vaksinasi',ascending=True)\n",
        "final_dv1['kematian_ke']=A\n",
        "final_dv1.reset_index()"
      ],
      "execution_count": 7,
      "outputs": [
        {
          "output_type": "execute_result",
          "data": {
            "text/html": [
              "<div>\n",
              "<style scoped>\n",
              "    .dataframe tbody tr th:only-of-type {\n",
              "        vertical-align: middle;\n",
              "    }\n",
              "\n",
              "    .dataframe tbody tr th {\n",
              "        vertical-align: top;\n",
              "    }\n",
              "\n",
              "    .dataframe thead th {\n",
              "        text-align: right;\n",
              "    }\n",
              "</style>\n",
              "<table border=\"1\" class=\"dataframe\">\n",
              "  <thead>\n",
              "    <tr style=\"text-align: right;\">\n",
              "      <th></th>\n",
              "      <th>index</th>\n",
              "      <th>Tanggal</th>\n",
              "      <th>total_vaksinasi</th>\n",
              "      <th>angka_kematian</th>\n",
              "      <th>kematian_ke</th>\n",
              "    </tr>\n",
              "  </thead>\n",
              "  <tbody>\n",
              "    <tr>\n",
              "      <th>0</th>\n",
              "      <td>9680</td>\n",
              "      <td>2021-01-28</td>\n",
              "      <td>373786.0</td>\n",
              "      <td>476</td>\n",
              "      <td>1</td>\n",
              "    </tr>\n",
              "    <tr>\n",
              "      <th>1</th>\n",
              "      <td>9681</td>\n",
              "      <td>2021-01-29</td>\n",
              "      <td>416299.0</td>\n",
              "      <td>187</td>\n",
              "      <td>2</td>\n",
              "    </tr>\n",
              "    <tr>\n",
              "      <th>2</th>\n",
              "      <td>9682</td>\n",
              "      <td>2021-01-30</td>\n",
              "      <td>502955.0</td>\n",
              "      <td>210</td>\n",
              "      <td>3</td>\n",
              "    </tr>\n",
              "    <tr>\n",
              "      <th>3</th>\n",
              "      <td>9683</td>\n",
              "      <td>2021-01-31</td>\n",
              "      <td>515681.0</td>\n",
              "      <td>270</td>\n",
              "      <td>4</td>\n",
              "    </tr>\n",
              "    <tr>\n",
              "      <th>4</th>\n",
              "      <td>9684</td>\n",
              "      <td>2021-02-01</td>\n",
              "      <td>574938.0</td>\n",
              "      <td>279</td>\n",
              "      <td>5</td>\n",
              "    </tr>\n",
              "    <tr>\n",
              "      <th>...</th>\n",
              "      <td>...</td>\n",
              "      <td>...</td>\n",
              "      <td>...</td>\n",
              "      <td>...</td>\n",
              "      <td>...</td>\n",
              "    </tr>\n",
              "    <tr>\n",
              "      <th>257</th>\n",
              "      <td>9937</td>\n",
              "      <td>2021-11-16</td>\n",
              "      <td>216663555.0</td>\n",
              "      <td>15</td>\n",
              "      <td>258</td>\n",
              "    </tr>\n",
              "    <tr>\n",
              "      <th>258</th>\n",
              "      <td>9938</td>\n",
              "      <td>2021-11-17</td>\n",
              "      <td>218286093.0</td>\n",
              "      <td>13</td>\n",
              "      <td>259</td>\n",
              "    </tr>\n",
              "    <tr>\n",
              "      <th>259</th>\n",
              "      <td>9939</td>\n",
              "      <td>2021-11-18</td>\n",
              "      <td>218409909.0</td>\n",
              "      <td>11</td>\n",
              "      <td>260</td>\n",
              "    </tr>\n",
              "    <tr>\n",
              "      <th>260</th>\n",
              "      <td>9940</td>\n",
              "      <td>2021-11-19</td>\n",
              "      <td>221362168.0</td>\n",
              "      <td>5</td>\n",
              "      <td>261</td>\n",
              "    </tr>\n",
              "    <tr>\n",
              "      <th>261</th>\n",
              "      <td>9941</td>\n",
              "      <td>2021-11-20</td>\n",
              "      <td>222785206.0</td>\n",
              "      <td>14</td>\n",
              "      <td>262</td>\n",
              "    </tr>\n",
              "  </tbody>\n",
              "</table>\n",
              "<p>262 rows × 5 columns</p>\n",
              "</div>"
            ],
            "text/plain": [
              "     index     Tanggal  total_vaksinasi  angka_kematian  kematian_ke\n",
              "0     9680  2021-01-28         373786.0             476            1\n",
              "1     9681  2021-01-29         416299.0             187            2\n",
              "2     9682  2021-01-30         502955.0             210            3\n",
              "3     9683  2021-01-31         515681.0             270            4\n",
              "4     9684  2021-02-01         574938.0             279            5\n",
              "..     ...         ...              ...             ...          ...\n",
              "257   9937  2021-11-16      216663555.0              15          258\n",
              "258   9938  2021-11-17      218286093.0              13          259\n",
              "259   9939  2021-11-18      218409909.0              11          260\n",
              "260   9940  2021-11-19      221362168.0               5          261\n",
              "261   9941  2021-11-20      222785206.0              14          262\n",
              "\n",
              "[262 rows x 5 columns]"
            ]
          },
          "metadata": {},
          "execution_count": 7
        }
      ]
    },
    {
      "cell_type": "code",
      "metadata": {
        "colab": {
          "base_uri": "https://localhost:8080/",
          "height": 408
        },
        "id": "C_PHT_UJgTfr",
        "outputId": "a0d6a9b8-3ea9-4055-f82a-64064e355920"
      },
      "source": [
        "%matplotlib inline\n",
        "\n",
        "plt.style.use('ggplot')\n",
        "\n",
        "X = final_dv1['kematian_ke']\n",
        "Y = final_dv1['angka_kematian']\n",
        "Y1 = final_dv1['total_vaksinasi']\n",
        "fig, ax = plt.subplots(ncols=1,nrows=2,figsize=(16,6))\n",
        "\n",
        "ax[0].plot(X, Y, color='lightcoral')\n",
        "ax[0].set_title('Total Vaksinasi vs Angka Kematian di Indonesia')\n",
        "ax[0].set_ylabel('Angka kematian')\n",
        "\n",
        "ax[1].plot(X, Y1, color='blue')\n",
        "ax[1].set_xlabel('kematian ke-')\n",
        "ax[1].set_ylabel('Total vaksinasi')\n",
        "\n",
        "plt.show()"
      ],
      "execution_count": 8,
      "outputs": [
        {
          "output_type": "display_data",
          "data": {
            "image/png": "[encoded data removed]",
            "text/plain": [
              "<Figure size 1152x432 with 2 Axes>"
            ]
          },
          "metadata": {}
        }
      ]
    },
    {
      "cell_type": "code",
      "metadata": {
        "colab": {
          "base_uri": "https://localhost:8080/",
          "height": 206
        },
        "id": "0hhCV_7Vla_n",
        "outputId": "72270aa1-b49d-4d3f-9c5e-c6774c64975e"
      },
      "source": [
        "final_dv2=final_dv1[final_dv1['angka_kematian']>1800]\n",
        "final_dv2.reset_index()"
      ],
      "execution_count": 9,
      "outputs": [
        {
          "output_type": "execute_result",
          "data": {
            "text/html": [
              "<div>\n",
              "<style scoped>\n",
              "    .dataframe tbody tr th:only-of-type {\n",
              "        vertical-align: middle;\n",
              "    }\n",
              "\n",
              "    .dataframe tbody tr th {\n",
              "        vertical-align: top;\n",
              "    }\n",
              "\n",
              "    .dataframe thead th {\n",
              "        text-align: right;\n",
              "    }\n",
              "</style>\n",
              "<table border=\"1\" class=\"dataframe\">\n",
              "  <thead>\n",
              "    <tr style=\"text-align: right;\">\n",
              "      <th></th>\n",
              "      <th>index</th>\n",
              "      <th>Tanggal</th>\n",
              "      <th>total_vaksinasi</th>\n",
              "      <th>angka_kematian</th>\n",
              "      <th>kematian_ke</th>\n",
              "    </tr>\n",
              "  </thead>\n",
              "  <tbody>\n",
              "    <tr>\n",
              "      <th>0</th>\n",
              "      <td>9827</td>\n",
              "      <td>2021-07-27</td>\n",
              "      <td>63944892.0</td>\n",
              "      <td>2069</td>\n",
              "      <td>148</td>\n",
              "    </tr>\n",
              "    <tr>\n",
              "      <th>1</th>\n",
              "      <td>9828</td>\n",
              "      <td>2021-07-28</td>\n",
              "      <td>64838074.0</td>\n",
              "      <td>1824</td>\n",
              "      <td>149</td>\n",
              "    </tr>\n",
              "    <tr>\n",
              "      <th>2</th>\n",
              "      <td>9829</td>\n",
              "      <td>2021-07-29</td>\n",
              "      <td>65959164.0</td>\n",
              "      <td>1893</td>\n",
              "      <td>150</td>\n",
              "    </tr>\n",
              "    <tr>\n",
              "      <th>3</th>\n",
              "      <td>9831</td>\n",
              "      <td>2021-07-31</td>\n",
              "      <td>67761337.0</td>\n",
              "      <td>1808</td>\n",
              "      <td>152</td>\n",
              "    </tr>\n",
              "    <tr>\n",
              "      <th>4</th>\n",
              "      <td>9841</td>\n",
              "      <td>2021-08-10</td>\n",
              "      <td>76933946.0</td>\n",
              "      <td>2048</td>\n",
              "      <td>162</td>\n",
              "    </tr>\n",
              "  </tbody>\n",
              "</table>\n",
              "</div>"
            ],
            "text/plain": [
              "   index     Tanggal  total_vaksinasi  angka_kematian  kematian_ke\n",
              "0   9827  2021-07-27       63944892.0            2069          148\n",
              "1   9828  2021-07-28       64838074.0            1824          149\n",
              "2   9829  2021-07-29       65959164.0            1893          150\n",
              "3   9831  2021-07-31       67761337.0            1808          152\n",
              "4   9841  2021-08-10       76933946.0            2048          162"
            ]
          },
          "metadata": {},
          "execution_count": 9
        }
      ]
    },
    {
      "cell_type": "code",
      "metadata": {
        "colab": {
          "base_uri": "https://localhost:8080/",
          "height": 366
        },
        "id": "A3Nw_DBqmK8B",
        "outputId": "361d7b62-6db5-4145-bd32-d75bbe97b51a"
      },
      "source": [
        "plt.figure(figsize=(15,5))\n",
        "\n",
        "Index=['2021-07-31','2021-07-28','2021-07-29','2021-08-10','2021-07-27']\n",
        "plt.bar(Index, final_dv2['angka_kematian'], color='lightcoral')\n",
        "\n",
        "plt.title('Total Angka Kematian yang lebih dari 20', size=24)\n",
        "plt.xlabel('tanggal', size=14)\n",
        "plt.ylabel('Angka Kematian', size=14)\n",
        "plt.xticks(size=12)\n",
        "plt.yticks(size=12)\n",
        "\n",
        "plt.show()"
      ],
      "execution_count": 10,
      "outputs": [
        {
          "output_type": "display_data",
          "data": {
            "image/png": "[encoded data removed]",
            "text/plain": [
              "<Figure size 1080x360 with 1 Axes>"
            ]
          },
          "metadata": {}
        }
      ]
    }
  ]
}